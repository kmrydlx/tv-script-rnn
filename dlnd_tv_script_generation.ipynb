{
 "cells": [
  {
   "cell_type": "markdown",
   "metadata": {},
   "source": [
    "# TV Script Generation\n",
    "\n",
    "In this project a [Seinfeld](https://en.wikipedia.org/wiki/Seinfeld) TV script is generated using RNNs. [Seinfeld dataset](https://www.kaggle.com/thec03u5/seinfeld-chronicles#scripts.csv) of scripts from 9 seasons, available from Kaggle, is used.  The Neural Network generates a new ,\"fake\" TV script, based on patterns it recognizes in this training data.\n",
    "\n",
    "## Get the Data"
   ]
  },
  {
   "cell_type": "code",
   "execution_count": 1,
   "metadata": {},
   "outputs": [],
   "source": [
    "# load in data\n",
    "import helper\n",
    "data_dir = './data/Seinfeld_Scripts.txt'\n",
    "text = helper.load_data(data_dir)"
   ]
  },
  {
   "cell_type": "markdown",
   "metadata": {},
   "source": [
    "## Explore the Data\n",
    "The variable `view_line_range` displays different parts of the data. It can be seen that it is all lowercase text, and each new line of dialogue is separated by a newline character `\\n`."
   ]
  },
  {
   "cell_type": "code",
   "execution_count": 2,
   "metadata": {},
   "outputs": [
    {
     "name": "stdout",
     "output_type": "stream",
     "text": [
      "Dataset Stats\n",
      "Roughly the number of unique words: 46367\n",
      "Number of lines: 109233\n",
      "Average number of words in each line: 5.544240293684143\n",
      "\n",
      "The lines 0 to 10:\n",
      "jerry: do you know what this is all about? do you know, why were here? to be out, this is out...and out is one of the single most enjoyable experiences of life. people...did you ever hear people talking about we should go out? this is what theyre talking about...this whole thing, were all out now, no one is home. not one person here is home, were all out! there are people trying to find us, they dont know where we are. (on an imaginary phone) did you ring?, i cant find him. where did he go? he didnt tell me where he was going. he must have gone out. you wanna go out you get ready, you pick out the clothes, right? you take the shower, you get all ready, get the cash, get your friends, the car, the spot, the reservation...then youre standing around, what do you do? you go we gotta be getting back. once youre out, you wanna get back! you wanna go to sleep, you wanna get up, you wanna go out again tomorrow, right? where ever you are in life, its my feeling, youve gotta go. \n",
      "\n",
      "jerry: (pointing at georges shirt) see, to me, that button is in the worst possible spot. the second button literally makes or breaks the shirt, look at it. its too high! its in no-mans-land. you look like you live with your mother. \n",
      "\n",
      "george: are you through? \n",
      "\n",
      "jerry: you do of course try on, when you buy? \n",
      "\n",
      "george: yes, it was purple, i liked it, i dont actually recall considering the buttons. \n",
      "\n"
     ]
    }
   ],
   "source": [
    "view_line_range = (0, 10)\n",
    "\n",
    "import numpy as np\n",
    "\n",
    "print('Dataset Stats')\n",
    "print('Roughly the number of unique words: {}'.format(len({word: None for word in text.split()})))\n",
    "\n",
    "lines = text.split('\\n')\n",
    "print('Number of lines: {}'.format(len(lines)))\n",
    "word_count_line = [len(line.split()) for line in lines]\n",
    "print('Average number of words in each line: {}'.format(np.average(word_count_line)))\n",
    "\n",
    "print()\n",
    "print('The lines {} to {}:'.format(*view_line_range))\n",
    "print('\\n'.join(text.split('\\n')[view_line_range[0]:view_line_range[1]]))"
   ]
  },
  {
   "cell_type": "markdown",
   "metadata": {},
   "source": [
    "---\n",
    "## Implement Pre-processing Functions\n",
    "The first thing to do to any dataset is pre-processing.  The following pre-processing functions below are implemented:\n",
    "- Lookup Table\n",
    "- Tokenize Punctuation\n",
    "\n",
    "### Lookup Table\n",
    "To create a word embedding, the words are first transformed to ids.  In this function, two dictionaries are created:\n",
    "- Dictionary to go from the words to an id, we'll call `vocab_to_int`\n",
    "- Dictionary to go from the id to word, we'll call `int_to_vocab`\n",
    "\n",
    "These dictionaries are returned in the following **tuple** `(vocab_to_int, int_to_vocab)`"
   ]
  },
  {
   "cell_type": "code",
   "execution_count": 3,
   "metadata": {},
   "outputs": [
    {
     "name": "stdout",
     "output_type": "stream",
     "text": [
      "Tests Passed\n"
     ]
    }
   ],
   "source": [
    "import problem_unittests as tests\n",
    "from collections import Counter\n",
    "\n",
    "def create_lookup_tables(text):\n",
    "    \"\"\"\n",
    "    Create lookup tables for vocabulary\n",
    "    :param text: The text of tv scripts split into words\n",
    "    :return: A tuple of dicts (vocab_to_int, int_to_vocab)\n",
    "    \"\"\"\n",
    "    word_counts = Counter(text)\n",
    "    # sorting the words from most to least frequent in text occurrence\n",
    "    sorted_vocab = sorted(word_counts, key=word_counts.get, reverse=True)\n",
    "    # create int_to_vocab dictionaries\n",
    "    int_to_vocab = {ii: word for ii, word in enumerate(sorted_vocab)}\n",
    "    vocab_to_int = {word: ii for ii, word in int_to_vocab.items()}\n",
    "\n",
    "    return vocab_to_int, int_to_vocab\n",
    "\n",
    "\"\"\"\n",
    "Test the function\n",
    "\"\"\"\n",
    "tests.test_create_lookup_tables(create_lookup_tables)"
   ]
  },
  {
   "cell_type": "markdown",
   "metadata": {},
   "source": [
    "### Tokenize Punctuation\n",
    "The script is split into a word array using spaces as delimiters.  However, punctuations like periods and exclamation marks can create multiple ids for the same word. For example, \"bye\" and \"bye!\" would generate two different word ids.\n",
    "\n",
    "The function `token_lookup` is implemented to return a dict that is used to tokenize symbols like \"!\" into \"||Exclamation_Mark||\".  A dictionary is created for the following symbols where the symbol is the key and value is the token:\n",
    "- Period ( **.** )\n",
    "- Comma ( **,** )\n",
    "- Quotation Mark ( **\"** )\n",
    "- Semicolon ( **;** )\n",
    "- Exclamation mark ( **!** )\n",
    "- Question mark ( **?** )\n",
    "- Left Parentheses ( **(** )\n",
    "- Right Parentheses ( **)** )\n",
    "- Dash ( **-** )\n",
    "- Return ( **\\n** )\n",
    "\n",
    "This dictionary is used to tokenize the symbols and add the delimiter (space) around it.  This separates each symbols as its own word, making it easier for the neural network to predict the next word. It is ensured that values which could be confused as a word are not used; for example, instead of using the value \"dash\", \"&lt;DASH&gt;\" is used."
   ]
  },
  {
   "cell_type": "code",
   "execution_count": 4,
   "metadata": {},
   "outputs": [
    {
     "name": "stdout",
     "output_type": "stream",
     "text": [
      "Tests Passed\n"
     ]
    }
   ],
   "source": [
    "def token_lookup():\n",
    "    \"\"\"\n",
    "    Generate a dict to turn punctuation into a token.\n",
    "    :return: Tokenized dictionary where the key is the punctuation and the value is the token\n",
    "    \"\"\"\n",
    "    dictionary = {\n",
    "        '.': '<PERIOD>',\n",
    "        ',': '<COMMA>',\n",
    "        '\"': '<QUOTATION_MARK>',\n",
    "        ';': '<SEMICOLON>',\n",
    "        '!': '<EXCLAMATION_MARK>',\n",
    "        '?': '<QUESTION_MARK>',\n",
    "        '(': '<LEFT_PAREN>',\n",
    "        ')': '<RIGHT_PAREN>',\n",
    "        #'--': '<HYPHENS>',\n",
    "        '-': '<DASH>',\n",
    "        '?': '<QUESTION_MARK>',\n",
    "        #':': '<COLON>',\n",
    "        '\\n': '<NEW_LINE>'}\n",
    "    return dictionary\n",
    "\n",
    "\"\"\"\n",
    "Test the function\n",
    "\"\"\"\n",
    "tests.test_tokenize(token_lookup)"
   ]
  },
  {
   "cell_type": "markdown",
   "metadata": {},
   "source": [
    "## Pre-process all the data and save it\n",
    "\n",
    "Running the code cell below pre-processes all the data and save it to file. "
   ]
  },
  {
   "cell_type": "code",
   "execution_count": 5,
   "metadata": {},
   "outputs": [],
   "source": [
    "# pre-process training data\n",
    "helper.preprocess_and_save_data(data_dir, token_lookup, create_lookup_tables)"
   ]
  },
  {
   "cell_type": "markdown",
   "metadata": {},
   "source": [
    "# Check Point\n",
    "This is the first checkpoint. If needed to come back to this notebook or have to restart it, it can be started from here. The preprocessed data has been saved to disk."
   ]
  },
  {
   "cell_type": "code",
   "execution_count": 6,
   "metadata": {},
   "outputs": [],
   "source": [
    "import helper\n",
    "import problem_unittests as tests\n",
    "\n",
    "int_text, vocab_to_int, int_to_vocab, token_dict = helper.load_preprocess()"
   ]
  },
  {
   "cell_type": "markdown",
   "metadata": {},
   "source": [
    "The variable `int_text` is the tokenized text. Below it is tested by making sure that the first 10 words from `text` variable are the same as the combination of `int_text` and `int_to_vocab` dictionary."
   ]
  },
  {
   "cell_type": "code",
   "execution_count": 7,
   "metadata": {},
   "outputs": [
    {
     "data": {
      "text/plain": [
       "'jerry: do you know what this is all about?'"
      ]
     },
     "execution_count": 7,
     "metadata": {},
     "output_type": "execute_result"
    }
   ],
   "source": [
    "text[0:42]"
   ]
  },
  {
   "cell_type": "code",
   "execution_count": 8,
   "metadata": {},
   "outputs": [
    {
     "data": {
      "text/plain": [
       "['jerry:',\n",
       " 'do',\n",
       " 'you',\n",
       " 'know',\n",
       " 'what',\n",
       " 'this',\n",
       " 'is',\n",
       " 'all',\n",
       " 'about',\n",
       " '<question_mark>']"
      ]
     },
     "execution_count": 8,
     "metadata": {},
     "output_type": "execute_result"
    }
   ],
   "source": [
    "[int_to_vocab[i] for i in int_text[0:10]]"
   ]
  },
  {
   "cell_type": "markdown",
   "metadata": {},
   "source": [
    "## Build the Neural Network\n",
    "In this section, the components necessary to build an RNN by implementing the RNN Module and forward and backpropagation functions are defined.\n",
    "\n",
    "### Check Access to GPU"
   ]
  },
  {
   "cell_type": "code",
   "execution_count": 9,
   "metadata": {},
   "outputs": [],
   "source": [
    "import torch\n",
    "\n",
    "# Check for a GPU\n",
    "train_on_gpu = torch.cuda.is_available()\n",
    "if not train_on_gpu:\n",
    "    print('No GPU found. Please use a GPU to train your neural network.')"
   ]
  },
  {
   "cell_type": "markdown",
   "metadata": {},
   "source": [
    "## Input\n",
    "Let's start with the preprocessed input data. [TensorDataset](http://pytorch.org/docs/master/data.html#torch.utils.data.TensorDataset) is used to provide a known format to the dataset; in combination with [DataLoader](http://pytorch.org/docs/master/data.html#torch.utils.data.DataLoader), it handles batching, shuffling, and other dataset iteration functions.\n",
    "\n",
    "### Batching\n",
    "The function `batch_data` is implemented to batch `words` data into chunks of size `batch_size` using the `TensorDataset` and `DataLoader` classes. "
   ]
  },
  {
   "cell_type": "code",
   "execution_count": 10,
   "metadata": {},
   "outputs": [],
   "source": [
    "from torch.utils.data import TensorDataset, DataLoader\n",
    "import torch\n",
    "\n",
    "def batch_data(words, sequence_length, batch_size):\n",
    "    \"\"\"\n",
    "    Batch the neural network data using DataLoader\n",
    "    :param words: The word ids of the TV scripts\n",
    "    :param sequence_length: The sequence length of each batch\n",
    "    :param batch_size: The size of each batch; the number of sequences in a batch\n",
    "    :return: DataLoader with batched data\n",
    "    \"\"\"\n",
    "    \n",
    "    feature_tensors = []\n",
    "    target_tensors= []\n",
    "    for i in range(sequence_length,len(words)):\n",
    "        feature_tensors.append(words[i-sequence_length:i])\n",
    "        target_tensors.append(words[i])\n",
    "\n",
    "    data = TensorDataset(torch.tensor(feature_tensors), torch.tensor(target_tensors))\n",
    "    data_loader = torch.utils.data.DataLoader(data, batch_size=batch_size)\n",
    "    \n",
    "    return data_loader"
   ]
  },
  {
   "cell_type": "markdown",
   "metadata": {},
   "source": [
    "### Test the dataloader "
   ]
  },
  {
   "cell_type": "code",
   "execution_count": 11,
   "metadata": {},
   "outputs": [
    {
     "name": "stdout",
     "output_type": "stream",
     "text": [
      "Sample input:  [0, 1, 2, 3, 4, 5, 6, 7, 8, 9, 10, 11, 12, 13, 14, 15, 16, 17, 18, 19]\n",
      "\n",
      "Sample feature tensor size:  torch.Size([10, 5])\n",
      "Sample feature tensor: \n",
      " tensor([[  0,   1,   2,   3,   4],\n",
      "        [  1,   2,   3,   4,   5],\n",
      "        [  2,   3,   4,   5,   6],\n",
      "        [  3,   4,   5,   6,   7],\n",
      "        [  4,   5,   6,   7,   8],\n",
      "        [  5,   6,   7,   8,   9],\n",
      "        [  6,   7,   8,   9,  10],\n",
      "        [  7,   8,   9,  10,  11],\n",
      "        [  8,   9,  10,  11,  12],\n",
      "        [  9,  10,  11,  12,  13]])\n",
      "\n",
      "Sample target tensor size:  torch.Size([10])\n",
      "Sample target tensor: \n",
      " tensor([  5,   6,   7,   8,   9,  10,  11,  12,  13,  14])\n"
     ]
    }
   ],
   "source": [
    "# test the code\n",
    "test_text = [i for i in range(20)]\n",
    "print('Sample input: ', test_text)\n",
    "print()\n",
    "\n",
    "# obtain one batch of training data\n",
    "dataloader = batch_data(test_text, sequence_length = 5, batch_size = 10)\n",
    "dataiter = iter(dataloader)\n",
    "feature_tensors, target_tensors = dataiter.next()\n",
    "\n",
    "print('Sample feature tensor size: ', feature_tensors.size()) # batch_size, seq_length\n",
    "print('Sample feature tensor: \\n', feature_tensors)\n",
    "print()\n",
    "print('Sample target tensor size: ', target_tensors.size()) # batch_size\n",
    "print('Sample target tensor: \\n', target_tensors)"
   ]
  },
  {
   "cell_type": "markdown",
   "metadata": {},
   "source": [
    "---\n",
    "## Build the Neural Network\n",
    "Implement an RNN using PyTorch's [Module class](http://pytorch.org/docs/master/nn.html#torch.nn.Module) with LSTM.\n",
    " \n",
    "The initialize function creates the layers of the neural network and saves them to the class. The forward propagation function uses these layers to run forward propagation and generates an output and a hidden state.\n",
    "\n",
    "**The output of this model is the *last* batch of word scores** after a complete sequence has been processed. That is, for each input sequence of words, the output is word scores for a single, most likely, next word.\n"
   ]
  },
  {
   "cell_type": "code",
   "execution_count": 13,
   "metadata": {},
   "outputs": [
    {
     "name": "stdout",
     "output_type": "stream",
     "text": [
      "Tests Passed\n"
     ]
    }
   ],
   "source": [
    "import torch.nn as nn\n",
    "\n",
    "class RNN(nn.Module):\n",
    "    \n",
    "    def __init__(self, vocab_size, output_size, embedding_dim, hidden_dim, n_layers, dropout=0.5):\n",
    "        \"\"\"\n",
    "        Initialize the PyTorch RNN Module\n",
    "        :param vocab_size: The number of input dimensions of the neural network (the size of the vocabulary)\n",
    "        :param output_size: The number of output dimensions of the neural network\n",
    "        :param embedding_dim: The size of embeddings, should you choose to use them        \n",
    "        :param hidden_dim: The size of the hidden layer outputs\n",
    "        :param dropout: dropout to add in between LSTM/GRU layers\n",
    "        \"\"\"\n",
    "        super(RNN, self).__init__()\n",
    "\n",
    "        self.output_size = output_size\n",
    "        self.n_layers = n_layers\n",
    "        self.hidden_dim = hidden_dim\n",
    "        \n",
    "        # embedding and LSTM layers\n",
    "        self.embedding = nn.Embedding(vocab_size, embedding_dim)\n",
    "        self.lstm = nn.LSTM(embedding_dim, hidden_dim, n_layers, \n",
    "                            dropout=dropout, batch_first=True)\n",
    "        \n",
    "        # dropout layer\n",
    "        #self.dropout = nn.Dropout(dropout)\n",
    "        \n",
    "        # linear and sigmoid layers\n",
    "        self.fc = nn.Linear(hidden_dim, output_size)\n",
    "    \n",
    "    def forward(self, nn_input, hidden):\n",
    "        \"\"\"\n",
    "        Forward propagation of the neural network\n",
    "        :param nn_input: The input to the neural network\n",
    "        :param hidden: The hidden state        \n",
    "        :return: Two Tensors, the output of the neural network and the latest hidden state\n",
    "        \"\"\"\n",
    "        x = nn_input\n",
    "        batch_size = x.size(0)\n",
    "\n",
    "        # embeddings and lstm_out\n",
    "        x = x.long()\n",
    "        embeds = self.embedding(x)\n",
    "        lstm_out, hidden = self.lstm(embeds, hidden)\n",
    "    \n",
    "        # stack up lstm outputs\n",
    "        lstm_out = lstm_out.contiguous().view(-1, self.hidden_dim)\n",
    "        \n",
    "        # dropout and fully-connected layer\n",
    "        #output = self.dropout(lstm_out)\n",
    "        output = self.fc(lstm_out)\n",
    "        \n",
    "        # reshape into (batch_size, seq_length, output_size)\n",
    "        output = output.view(batch_size, -1, self.output_size)\n",
    "        # get last batch\n",
    "        output = output[:, -1]\n",
    "        \n",
    "        # return last sigmoid output and hidden state\n",
    "        return output, hidden\n",
    "    \n",
    "    \n",
    "    def init_hidden(self, batch_size):\n",
    "        '''\n",
    "        Initialize the hidden state of an LSTM/GRU\n",
    "        :param batch_size: The batch_size of the hidden state\n",
    "        :return: hidden state of dims (n_layers, batch_size, hidden_dim)\n",
    "        '''\n",
    "        weight = next(self.parameters()).data\n",
    "        \n",
    "        if (train_on_gpu):\n",
    "            hidden = (weight.new(self.n_layers, batch_size, self.hidden_dim).zero_().cuda(),\n",
    "                  weight.new(self.n_layers, batch_size, self.hidden_dim).zero_().cuda())\n",
    "        else:\n",
    "            hidden = (weight.new(self.n_layers, batch_size, self.hidden_dim).zero_(),\n",
    "                      weight.new(self.n_layers, batch_size, self.hidden_dim).zero_())\n",
    "        \n",
    "        return hidden\n",
    "        \n",
    "\n",
    "\"\"\"\n",
    "Test the function\n",
    "\"\"\"\n",
    "tests.test_rnn(RNN, train_on_gpu)"
   ]
  },
  {
   "cell_type": "markdown",
   "metadata": {},
   "source": [
    "### Define forward and backpropagation\n",
    "\n",
    "The RNN class is implemented to apply forward and back propagation. It returns the average loss over a batch and the hidden state."
   ]
  },
  {
   "cell_type": "code",
   "execution_count": 14,
   "metadata": {},
   "outputs": [
    {
     "name": "stdout",
     "output_type": "stream",
     "text": [
      "Tests Passed\n"
     ]
    }
   ],
   "source": [
    "def forward_back_prop(rnn, optimizer, criterion, inputs, target, hidden):\n",
    "    \"\"\"\n",
    "    Forward and backward propagation on the neural network\n",
    "    :param decoder: The PyTorch Module that holds the neural network\n",
    "    :param decoder_optimizer: The PyTorch optimizer for the neural network\n",
    "    :param criterion: The PyTorch loss function\n",
    "    :param inputs: A batch of input to the neural network\n",
    "    :param target: The target output for the batch of input\n",
    "    :return: The loss and the latest hidden state Tensor\n",
    "    \"\"\"\n",
    "    # move data to GPU, if available\n",
    "    if(train_on_gpu):\n",
    "        inputs, target = inputs.cuda(), target.cuda()\n",
    "    \n",
    "    # Creating new variables for the hidden state\n",
    "    hidden = tuple([each.data for each in hidden])\n",
    "    \n",
    "    # zero accumulated gradients\n",
    "    rnn.zero_grad()\n",
    "\n",
    "    # get the output from the model\n",
    "    output, hidden = rnn(inputs, hidden)\n",
    "\n",
    "    # calculate the loss and perform backprop\n",
    "    loss = criterion(output, target)\n",
    "    loss.backward()\n",
    "    \n",
    "    clip = 5 # gradient clipping\n",
    "    # `clip_grad_norm` helps prevent the exploding gradient problem in RNNs / LSTMs.\n",
    "    nn.utils.clip_grad_norm_(rnn.parameters(), clip)\n",
    "    optimizer.step()\n",
    "    \n",
    "    return loss.item(), hidden\n",
    "\n",
    "\"\"\"\n",
    "Test the function\n",
    "\"\"\"\n",
    "tests.test_forward_back_prop(RNN, forward_back_prop, train_on_gpu)"
   ]
  },
  {
   "cell_type": "markdown",
   "metadata": {},
   "source": [
    "## Neural Network Training\n",
    "\n",
    "With the structure of the network complete and data ready to be fed in the neural network, it's time to train it.\n",
    "\n",
    "### Train Loop\n",
    "\n",
    "The training loop is implemented in the `train_decoder` function. This function trains the network over all the batches for the number of epochs given. "
   ]
  },
  {
   "cell_type": "code",
   "execution_count": 15,
   "metadata": {},
   "outputs": [],
   "source": [
    "def train_rnn(rnn, batch_size, optimizer, criterion, n_epochs, show_every_n_batches=100):\n",
    "    batch_losses = []\n",
    "    \n",
    "    rnn.train()\n",
    "\n",
    "    print(\"Training for %d epoch(s)...\" % n_epochs)\n",
    "    for epoch_i in range(1, n_epochs + 1):\n",
    "        \n",
    "        # initialize hidden state\n",
    "        hidden = rnn.init_hidden(batch_size)\n",
    "        \n",
    "        for batch_i, (inputs, labels) in enumerate(train_loader, 1):\n",
    "            \n",
    "            # make sure you iterate over completely full batches, only\n",
    "            n_batches = len(train_loader.dataset)//batch_size\n",
    "            if(batch_i > n_batches):\n",
    "                break\n",
    "            \n",
    "            # forward, back prop\n",
    "            loss, hidden = forward_back_prop(rnn, optimizer, criterion, inputs, labels, hidden)          \n",
    "            # record loss\n",
    "            batch_losses.append(loss)\n",
    "\n",
    "            # printing loss stats\n",
    "            if batch_i % show_every_n_batches == 0:\n",
    "                print('Epoch: {:>4}/{:<4}  Loss: {}'.format(\n",
    "                    epoch_i, n_epochs, np.average(batch_losses)))\n",
    "                batch_losses = []\n",
    "\n",
    "    # returns a trained rnn\n",
    "    return rnn"
   ]
  },
  {
   "cell_type": "markdown",
   "metadata": {},
   "source": [
    "### Hyperparameters\n",
    "\n",
    "The following parameters are defined:\n",
    "* `sequence_length` - the length of a sequence\n",
    "* `batch_size` - batch size\n",
    "* `num_epochs` - number of epochs to train for\n",
    "* `learning_rate` - learning rate for an Adam optimizer\n",
    "* `vocab_size` - number of uniqe tokens in our vocabulary\n",
    "* `output_size` - desired size of the output\n",
    "* `embedding_dim` - embedding dimension; smaller than the vocab_size\n",
    "* `hidden_dim` - hidden dimension of your RNN\n",
    "* `n_layers` - number of layers/cells in your RNN\n",
    "* `show_every_n_batches` - number of batches at which the neural network should print progress"
   ]
  },
  {
   "cell_type": "code",
   "execution_count": 16,
   "metadata": {},
   "outputs": [],
   "source": [
    "# Data params\n",
    "# Sequence Length\n",
    "sequence_length = 10  # of words in a sequence\n",
    "# Batch Size\n",
    "batch_size = 128\n",
    "\n",
    "# data loader - do not change\n",
    "train_loader = batch_data(int_text, sequence_length, batch_size)"
   ]
  },
  {
   "cell_type": "code",
   "execution_count": 17,
   "metadata": {},
   "outputs": [],
   "source": [
    "# Training parameters\n",
    "# Number of Epochs\n",
    "num_epochs = 10\n",
    "# Learning Rate\n",
    "learning_rate = 0.001\n",
    "\n",
    "# Model parameters\n",
    "# Vocab size\n",
    "vocab_size = len(vocab_to_int) \n",
    "# Output size\n",
    "output_size = vocab_size\n",
    "# Embedding Dimension\n",
    "embedding_dim = 300\n",
    "# Hidden Dimension\n",
    "hidden_dim = 256\n",
    "# Number of RNN Layers\n",
    "n_layers = 2\n",
    "\n",
    "# Show stats for every n number of batches\n",
    "show_every_n_batches = 500"
   ]
  },
  {
   "cell_type": "markdown",
   "metadata": {},
   "source": [
    "### Train\n",
    "\n",
    "The neural network is now trained on the pre-processed data."
   ]
  },
  {
   "cell_type": "code",
   "execution_count": 18,
   "metadata": {},
   "outputs": [
    {
     "name": "stdout",
     "output_type": "stream",
     "text": [
      "Training for 10 epoch(s)...\n",
      "Epoch:    1/10    Loss: 5.49014184474945\n",
      "Epoch:    1/10    Loss: 4.8817426195144655\n",
      "Epoch:    1/10    Loss: 4.658660507202148\n",
      "Epoch:    1/10    Loss: 4.543095160484314\n",
      "Epoch:    1/10    Loss: 4.53983976650238\n",
      "Epoch:    1/10    Loss: 4.55903724527359\n",
      "Epoch:    1/10    Loss: 4.46418013381958\n",
      "Epoch:    1/10    Loss: 4.339940574645996\n",
      "Epoch:    1/10    Loss: 4.3120862193107605\n",
      "Epoch:    1/10    Loss: 4.257246546268463\n",
      "Epoch:    1/10    Loss: 4.373244073867798\n",
      "Epoch:    1/10    Loss: 4.408431221485138\n",
      "Epoch:    1/10    Loss: 4.396023030757904\n",
      "Epoch:    2/10    Loss: 4.1921956972195025\n",
      "Epoch:    2/10    Loss: 4.010610648155213\n",
      "Epoch:    2/10    Loss: 3.9120227069854736\n",
      "Epoch:    2/10    Loss: 3.8620828886032106\n",
      "Epoch:    2/10    Loss: 3.919403598308563\n",
      "Epoch:    2/10    Loss: 4.000794438362122\n",
      "Epoch:    2/10    Loss: 3.946725730895996\n",
      "Epoch:    2/10    Loss: 3.8232504744529723\n",
      "Epoch:    2/10    Loss: 3.8503002891540525\n",
      "Epoch:    2/10    Loss: 3.795907429218292\n",
      "Epoch:    2/10    Loss: 3.9115806393623354\n",
      "Epoch:    2/10    Loss: 3.9598482761383056\n",
      "Epoch:    2/10    Loss: 3.947728459358215\n",
      "Epoch:    3/10    Loss: 3.848082427515949\n",
      "Epoch:    3/10    Loss: 3.7561267185211182\n",
      "Epoch:    3/10    Loss: 3.691829610824585\n",
      "Epoch:    3/10    Loss: 3.6595456624031066\n",
      "Epoch:    3/10    Loss: 3.7121321415901183\n",
      "Epoch:    3/10    Loss: 3.7857878646850587\n",
      "Epoch:    3/10    Loss: 3.728778552055359\n",
      "Epoch:    3/10    Loss: 3.612089977264404\n",
      "Epoch:    3/10    Loss: 3.6427622718811037\n",
      "Epoch:    3/10    Loss: 3.588692585468292\n",
      "Epoch:    3/10    Loss: 3.7328954954147338\n",
      "Epoch:    3/10    Loss: 3.75504318189621\n",
      "Epoch:    3/10    Loss: 3.729561486721039\n",
      "Epoch:    4/10    Loss: 3.6716639776594007\n",
      "Epoch:    4/10    Loss: 3.5937126450538637\n",
      "Epoch:    4/10    Loss: 3.522502188682556\n",
      "Epoch:    4/10    Loss: 3.500458089351654\n",
      "Epoch:    4/10    Loss: 3.5529361720085144\n",
      "Epoch:    4/10    Loss: 3.6451982245445254\n",
      "Epoch:    4/10    Loss: 3.5946854557991026\n",
      "Epoch:    4/10    Loss: 3.480575644493103\n",
      "Epoch:    4/10    Loss: 3.510179792881012\n",
      "Epoch:    4/10    Loss: 3.4643210439682006\n",
      "Epoch:    4/10    Loss: 3.5785470447540284\n",
      "Epoch:    4/10    Loss: 3.6004650897979738\n",
      "Epoch:    4/10    Loss: 3.5839860100746153\n",
      "Epoch:    5/10    Loss: 3.5516359695340087\n",
      "Epoch:    5/10    Loss: 3.4903854331970217\n",
      "Epoch:    5/10    Loss: 3.419622007369995\n",
      "Epoch:    5/10    Loss: 3.411866853237152\n",
      "Epoch:    5/10    Loss: 3.450593475818634\n",
      "Epoch:    5/10    Loss: 3.5418106355667116\n",
      "Epoch:    5/10    Loss: 3.5076485872268677\n",
      "Epoch:    5/10    Loss: 3.3815834851264954\n",
      "Epoch:    5/10    Loss: 3.415176069736481\n",
      "Epoch:    5/10    Loss: 3.386503851890564\n",
      "Epoch:    5/10    Loss: 3.4717196831703188\n",
      "Epoch:    5/10    Loss: 3.4879835200309754\n",
      "Epoch:    5/10    Loss: 3.4883308935165407\n",
      "Epoch:    6/10    Loss: 3.464372564272492\n",
      "Epoch:    6/10    Loss: 3.4221719455718995\n",
      "Epoch:    6/10    Loss: 3.346161907196045\n",
      "Epoch:    6/10    Loss: 3.335047399044037\n",
      "Epoch:    6/10    Loss: 3.359902172088623\n",
      "Epoch:    6/10    Loss: 3.469557029247284\n",
      "Epoch:    6/10    Loss: 3.4198617849349975\n",
      "Epoch:    6/10    Loss: 3.306321549415588\n",
      "Epoch:    6/10    Loss: 3.338669836997986\n",
      "Epoch:    6/10    Loss: 3.3023672614097594\n",
      "Epoch:    6/10    Loss: 3.4304200778007505\n",
      "Epoch:    6/10    Loss: 3.4038606119155883\n",
      "Epoch:    6/10    Loss: 3.4274898858070375\n",
      "Epoch:    7/10    Loss: 3.401285180858537\n",
      "Epoch:    7/10    Loss: 3.366448269844055\n",
      "Epoch:    7/10    Loss: 3.2951437525749205\n",
      "Epoch:    7/10    Loss: 3.2663055186271666\n",
      "Epoch:    7/10    Loss: 3.2903057584762574\n",
      "Epoch:    7/10    Loss: 3.3977077856063844\n",
      "Epoch:    7/10    Loss: 3.36062886428833\n",
      "Epoch:    7/10    Loss: 3.2688625860214233\n",
      "Epoch:    7/10    Loss: 3.293998984336853\n",
      "Epoch:    7/10    Loss: 3.2483880434036254\n",
      "Epoch:    7/10    Loss: 3.3621266837120056\n",
      "Epoch:    7/10    Loss: 3.33933215379715\n",
      "Epoch:    7/10    Loss: 3.3627716941833494\n",
      "Epoch:    8/10    Loss: 3.350054563752638\n",
      "Epoch:    8/10    Loss: 3.3200738830566405\n",
      "Epoch:    8/10    Loss: 3.24080104637146\n",
      "Epoch:    8/10    Loss: 3.214343665599823\n",
      "Epoch:    8/10    Loss: 3.239876814365387\n",
      "Epoch:    8/10    Loss: 3.3527293896675108\n",
      "Epoch:    8/10    Loss: 3.3085454125404357\n",
      "Epoch:    8/10    Loss: 3.214213180541992\n",
      "Epoch:    8/10    Loss: 3.2393970408439636\n",
      "Epoch:    8/10    Loss: 3.1961322560310363\n",
      "Epoch:    8/10    Loss: 3.3067097759246824\n",
      "Epoch:    8/10    Loss: 3.2869647545814513\n",
      "Epoch:    8/10    Loss: 3.3133033900260926\n",
      "Epoch:    9/10    Loss: 3.303974554880731\n",
      "Epoch:    9/10    Loss: 3.282868106365204\n",
      "Epoch:    9/10    Loss: 3.203125232219696\n",
      "Epoch:    9/10    Loss: 3.1756162567138673\n",
      "Epoch:    9/10    Loss: 3.192895875453949\n",
      "Epoch:    9/10    Loss: 3.3020610704421998\n",
      "Epoch:    9/10    Loss: 3.2698247146606447\n",
      "Epoch:    9/10    Loss: 3.171748098373413\n",
      "Epoch:    9/10    Loss: 3.19441464138031\n",
      "Epoch:    9/10    Loss: 3.15376971244812\n",
      "Epoch:    9/10    Loss: 3.261912693977356\n",
      "Epoch:    9/10    Loss: 3.240265892505646\n",
      "Epoch:    9/10    Loss: 3.2672608304023742\n",
      "Epoch:   10/10    Loss: 3.2667384204234624\n",
      "Epoch:   10/10    Loss: 3.2402376976013185\n",
      "Epoch:   10/10    Loss: 3.1648725228309633\n",
      "Epoch:   10/10    Loss: 3.1370155510902404\n",
      "Epoch:   10/10    Loss: 3.1575877618789674\n",
      "Epoch:   10/10    Loss: 3.2569544272422792\n",
      "Epoch:   10/10    Loss: 3.2265823173522947\n",
      "Epoch:   10/10    Loss: 3.1303407683372497\n",
      "Epoch:   10/10    Loss: 3.15785178565979\n",
      "Epoch:   10/10    Loss: 3.1181461696624755\n",
      "Epoch:   10/10    Loss: 3.2152472949028015\n",
      "Epoch:   10/10    Loss: 3.2020394644737245\n",
      "Epoch:   10/10    Loss: 3.2271142258644105\n"
     ]
    },
    {
     "name": "stderr",
     "output_type": "stream",
     "text": [
      "/opt/conda/lib/python3.6/site-packages/torch/serialization.py:193: UserWarning: Couldn't retrieve source code for container of type RNN. It won't be checked for correctness upon loading.\n",
      "  \"type \" + obj.__name__ + \". It won't be checked \"\n"
     ]
    },
    {
     "name": "stdout",
     "output_type": "stream",
     "text": [
      "Model Trained and Saved\n"
     ]
    }
   ],
   "source": [
    "# create model and move to gpu if available\n",
    "rnn = RNN(vocab_size, output_size, embedding_dim, hidden_dim, n_layers, dropout=0.5)\n",
    "if train_on_gpu:\n",
    "    rnn.cuda()\n",
    "\n",
    "# defining loss and optimization functions for training\n",
    "optimizer = torch.optim.Adam(rnn.parameters(), lr=learning_rate)\n",
    "criterion = nn.CrossEntropyLoss()\n",
    "\n",
    "# training the model\n",
    "trained_rnn = train_rnn(rnn, batch_size, optimizer, criterion, num_epochs, show_every_n_batches)\n",
    "\n",
    "# saving the trained model\n",
    "helper.save_model('./save/trained_rnn', trained_rnn)\n",
    "print('Model Trained and Saved')"
   ]
  },
  {
   "cell_type": "markdown",
   "metadata": {},
   "source": [
    "### How were the model hyperparameters selected? \n",
    "\n",
    "The parameters picked initially were similar to the ones in the final iteration. The loss kept decreasing consistently up until epoch 5, when the loss started oscillating between 3.8-4.0. The model probably reached a local minimum and its final loss was 3.9. This behaviour did not change despite modifying the parameters. Removing dropout before the final fully-connected layer resolved that issue and the loss started decreasing further.\n",
    "\n",
    "The sequence length was chosen to be 10 words, which seemed sufficient for this task. \n",
    "\n",
    "The batch size is generally taken as a power of 2 to handle better by torch module when using cuda. Too small bath size slows down the training, but too large one consumes more memory affecting the accuracy. The size of 128 was finally chosen.\n",
    "\n",
    "Two hidden layers were selected as they converged faster than three, whilst keeping similar performance. The hidden dimension of 256 and embedding size of 300 were selected.\n",
    "\n",
    "Learning rate of 0.001 was chosen for this task. However, during the analysis the loss was oscillating and adaptive learning rate could be potentially incorporated to adjust the training."
   ]
  },
  {
   "cell_type": "markdown",
   "metadata": {},
   "source": [
    "---\n",
    "# Checkpoint\n",
    "\n",
    "The model is saved as `trained_rnn`. It can be resumed by running the next cell, which will load in word:id dictionaries and load in saved model."
   ]
  },
  {
   "cell_type": "code",
   "execution_count": 23,
   "metadata": {},
   "outputs": [],
   "source": [
    "import torch\n",
    "import helper\n",
    "import problem_unittests as tests\n",
    "\n",
    "_, vocab_to_int, int_to_vocab, token_dict = helper.load_preprocess()\n",
    "trained_rnn = helper.load_model('./save/trained_rnn')"
   ]
  },
  {
   "cell_type": "markdown",
   "metadata": {},
   "source": [
    "## Generate TV Script\n",
    "With the network trained and saved, \"fake\" Seinfeld TV script is generated in this section.\n",
    "\n",
    "### Generate Text\n",
    "To generate the text, the network needs to start with a single word and repeat its predictions until it reaches a set length, with `generate` function. This function takes a word id to start with, `prime_id`, and generates a set length of text, `predict_len`. It uses topk sampling to introduce some randomness in choosing the most likely next word, given an output set of word scores."
   ]
  },
  {
   "cell_type": "code",
   "execution_count": 20,
   "metadata": {},
   "outputs": [],
   "source": [
    "import torch.nn.functional as F\n",
    "\n",
    "def generate(rnn, prime_id, int_to_vocab, token_dict, pad_value, predict_len=100):\n",
    "    \"\"\"\n",
    "    Generate text using the neural network\n",
    "    :param decoder: The PyTorch Module that holds the trained neural network\n",
    "    :param prime_id: The word id to start the first prediction\n",
    "    :param int_to_vocab: Dict of word id keys to word values\n",
    "    :param token_dict: Dict of puncuation tokens keys to puncuation values\n",
    "    :param pad_value: The value used to pad a sequence\n",
    "    :param predict_len: The length of text to generate\n",
    "    :return: The generated text\n",
    "    \"\"\"\n",
    "    rnn.eval()\n",
    "    \n",
    "    # create a sequence (batch_size=1) with the prime_id\n",
    "    current_seq = np.full((1, sequence_length), pad_value)\n",
    "    current_seq[-1][-1] = prime_id\n",
    "    predicted = [int_to_vocab[prime_id]]\n",
    "    \n",
    "    for _ in range(predict_len):\n",
    "        if train_on_gpu:\n",
    "            current_seq = torch.LongTensor(current_seq).cuda()\n",
    "        else:\n",
    "            current_seq = torch.LongTensor(current_seq)\n",
    "        \n",
    "        # initialize the hidden state\n",
    "        hidden = rnn.init_hidden(current_seq.size(0))\n",
    "        \n",
    "        # get the output of the rnn\n",
    "        output, _ = rnn(current_seq, hidden)\n",
    "        \n",
    "        # get the next word probabilities\n",
    "        p = F.softmax(output, dim=1).data\n",
    "        if(train_on_gpu):\n",
    "            p = p.cpu() # move to cpu\n",
    "         \n",
    "        # use top_k sampling to get the index of the next word\n",
    "        top_k = 5\n",
    "        p, top_i = p.topk(top_k)\n",
    "        top_i = top_i.numpy().squeeze()\n",
    "        \n",
    "        # select the likely next word index with some element of randomness\n",
    "        p = p.numpy().squeeze()\n",
    "        word_i = np.random.choice(top_i, p=p/p.sum())\n",
    "        \n",
    "        # retrieve that word from the dictionary\n",
    "        word = int_to_vocab[word_i]\n",
    "        predicted.append(word)     \n",
    "        \n",
    "        # the generated word becomes the next \"current sequence\" and the cycle can continue\n",
    "        current_seq = np.roll(current_seq, -1, 1)\n",
    "        current_seq[-1][-1] = word_i\n",
    "    \n",
    "    gen_sentences = ' '.join(predicted)\n",
    "    \n",
    "    # Replace punctuation tokens\n",
    "    for key, token in token_dict.items():\n",
    "        ending = ' ' if key in ['\\n', '(', '\"'] else ''\n",
    "        gen_sentences = gen_sentences.replace(' ' + token.lower(), key)\n",
    "    gen_sentences = gen_sentences.replace('\\n ', '\\n')\n",
    "    gen_sentences = gen_sentences.replace('( ', '(')\n",
    "    \n",
    "    # return all the sentences\n",
    "    return gen_sentences"
   ]
  },
  {
   "cell_type": "markdown",
   "metadata": {},
   "source": [
    "### Generate a New Script\n",
    "It's time to generate the text. `gen_length` is set to the length of TV script and `prime_word` is can be set to one of the following to start the prediction:\n",
    "- \"jerry\"\n",
    "- \"elaine\"\n",
    "- \"george\"\n",
    "- \"kramer\"\n",
    "\n",
    "This can be run several times until an interesting script has been generated."
   ]
  },
  {
   "cell_type": "code",
   "execution_count": 25,
   "metadata": {},
   "outputs": [
    {
     "name": "stderr",
     "output_type": "stream",
     "text": [
      "/opt/conda/lib/python3.6/site-packages/ipykernel_launcher.py:44: UserWarning: RNN module weights are not part of single contiguous chunk of memory. This means they need to be compacted at every call, possibly greatly increasing memory usage. To compact weights again call flatten_parameters().\n"
     ]
    },
    {
     "name": "stdout",
     "output_type": "stream",
     "text": [
      "jerry: hopeless.\n",
      "\n",
      "hoyt: i can't find it out.\n",
      "\n",
      "jerry: what do i think?\n",
      "\n",
      "elaine: well, i don't know.\n",
      "\n",
      "jerry: oh no, no.\n",
      "\n",
      "hoyt: well, i don't know what this is going to do that. i was thinking about it.\n",
      "\n",
      "kramer: oh, no, no.\n",
      "\n",
      "elaine: what happened?\n",
      "\n",
      "jerry: well..\n",
      "\n",
      "elaine: so?\n",
      "\n",
      "kramer: no! i'm sorry.\n",
      "\n",
      "hoyt: so, what's the matter with you?\n",
      "\n",
      "elaine: well, i'm not going to do that.\n",
      "\n",
      "jerry: what?\n",
      "\n",
      "elaine: well, i was thinking about a homeless guard.\n",
      "\n",
      "jerry: what?\n",
      "\n",
      "george: yeah, i guess i'll see the bathrooms.\n",
      "\n",
      "jerry: i don't know.\n",
      "\n",
      "helen: you got a good time, you want to be able to go.\n",
      "\n",
      "jerry: so, you know what the big pee are gonna do.\n",
      "\n",
      "jerry: oh!\n",
      "\n",
      "jerry: hey!\n",
      "\n",
      "george: hey, hey, hey!\n",
      "\n",
      "kramer: oh, come on, gentlemen.\n",
      "\n",
      "george: what happened? i mean, this is not really good.\n",
      "\n",
      "hoyt: so, what's going on?\n",
      "\n",
      "kramer: well, you know what the interest is. it's a misprint, and you know what?\n",
      "\n",
      "jerry: i don't know what they do.\n",
      "\n",
      "george: i know how it would do about the mood.\n",
      "\n",
      "hoyt: well, i think it's a real industrialist.\n",
      "\n",
      "hoyt: i think we should call the maid.\n",
      "\n",
      "george: i thought we were going to have to be able to communicate this thing, but i think we could see if i was in a conversation, you should have a big pee bystander.\n",
      "\n",
      "george: so, essentially, what do you want to do?\n",
      "\n",
      "jerry: no.\n",
      "\n",
      "george: oh, hi, jerry.\n",
      "\n",
      "elaine: so, you know what happens?\n",
      "\n",
      "jerry: i don't want any cameras.\n",
      "\n",
      "jerry: so what\n"
     ]
    }
   ],
   "source": [
    "# run the cell multiple times to get different results!\n",
    "gen_length = 400 # modify the length to your preference\n",
    "prime_word = 'jerry' # name for starting the script\n",
    "\n",
    "pad_word = helper.SPECIAL_WORDS['PADDING']\n",
    "generated_script = generate(trained_rnn, vocab_to_int[prime_word + ':'], int_to_vocab, token_dict, vocab_to_int[pad_word], gen_length)\n",
    "print(generated_script)"
   ]
  },
  {
   "cell_type": "markdown",
   "metadata": {},
   "source": [
    "#### Save the best scripts\n",
    "\n",
    "Once an interesting script is generated, it's saved to a text file."
   ]
  },
  {
   "cell_type": "code",
   "execution_count": 41,
   "metadata": {},
   "outputs": [],
   "source": [
    "# save script to a text file\n",
    "f =  open(\"generated_script_1.txt\",\"w\")\n",
    "f.write(generated_script)\n",
    "f.close()"
   ]
  },
  {
   "cell_type": "markdown",
   "metadata": {},
   "source": [
    "# The TV Script is Not Perfect\n",
    "The TV script clearly doesn't make perfect sense, but it looks like alternating lines of dialogue.\n",
    "\n",
    "It takes quite a while to get good results. The Seinfeld dataset is about 3.4 MB, which is big enough for this purpose; for script generation more than 1 MB of textis generally desired. "
   ]
  }
 ],
 "metadata": {
  "kernelspec": {
   "display_name": "Python 3",
   "language": "python",
   "name": "python3"
  },
  "language_info": {
   "codemirror_mode": {
    "name": "ipython",
    "version": 3
   },
   "file_extension": ".py",
   "mimetype": "text/x-python",
   "name": "python",
   "nbconvert_exporter": "python",
   "pygments_lexer": "ipython3",
   "version": "3.6.3"
  },
  "widgets": {
   "state": {},
   "version": "1.1.2"
  }
 },
 "nbformat": 4,
 "nbformat_minor": 1
}
